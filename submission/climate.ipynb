{
 "cells": [
  {
   "cell_type": "code",
   "execution_count": 1,
   "metadata": {},
   "outputs": [],
   "source": [
    "# Dependencies.\n",
    "# SQL Alchemy\n",
    "import sqlalchemy\n",
    "from sqlalchemy.ext.automap import automap_base\n",
    "from sqlalchemy.orm import Session\n",
    "from sqlalchemy import create_engine, inspect, func, text\n",
    "\n",
    "# Data.\n",
    "import pandas as pd\n",
    "import numpy as np\n",
    "\n",
    "# Data Visualization.\n",
    "import matplotlib.pyplot as plt\n",
    "import seaborn as sns\n",
    "\n",
    "# Other.\n",
    "import datetime as dt\n",
    "from time import sleep"
   ]
  },
  {
   "cell_type": "markdown",
   "metadata": {},
   "source": [
    "# Reflect Tables into SQLAlchemy ORM"
   ]
  },
  {
   "cell_type": "code",
   "execution_count": 2,
   "metadata": {},
   "outputs": [],
   "source": [
    "# Create engine using the `hawaii.sqlite` database file.\n",
    "filepath = \"../data/hawaii.sqlite\"\n",
    "engine = create_engine(f\"sqlite:///{filepath}\")"
   ]
  },
  {
   "cell_type": "code",
   "execution_count": 3,
   "metadata": {},
   "outputs": [],
   "source": [
    "# Declare a Base using `automap_base()`.\n",
    "Base = automap_base()\n",
    "\n",
    "# Use the Base class to reflect the database tables.\n",
    "Base.prepare(autoload_with = engine)"
   ]
  },
  {
   "cell_type": "code",
   "execution_count": 4,
   "metadata": {},
   "outputs": [
    {
     "data": {
      "text/plain": [
       "['measurement', 'station']"
      ]
     },
     "execution_count": 4,
     "metadata": {},
     "output_type": "execute_result"
    }
   ],
   "source": [
    "# Print all of the classes mapped to the Base.\n",
    "Base.classes.keys()"
   ]
  },
  {
   "cell_type": "code",
   "execution_count": 5,
   "metadata": {},
   "outputs": [],
   "source": [
    "# Assign the classes as follows...\n",
    "# 'Measurement' = measurement class.\n",
    "# 'Station' = station class.\n",
    "Measurement = Base.classes.measurement\n",
    "Station = Base.classes.station"
   ]
  },
  {
   "cell_type": "code",
   "execution_count": 6,
   "metadata": {},
   "outputs": [],
   "source": [
    "# Create a session.\n",
    "session = Session(engine)"
   ]
  },
  {
   "cell_type": "markdown",
   "metadata": {},
   "source": [
    "# Inspect Those Tables"
   ]
  },
  {
   "cell_type": "code",
   "execution_count": 7,
   "metadata": {},
   "outputs": [],
   "source": [
    "# Create an inspector.\n",
    "inspector = inspect(engine)"
   ]
  },
  {
   "cell_type": "code",
   "execution_count": 8,
   "metadata": {},
   "outputs": [
    {
     "name": "stdout",
     "output_type": "stream",
     "text": [
      "measurement\n",
      "{'name': 'id', 'type': INTEGER(), 'nullable': False, 'default': None, 'primary_key': 1}\n",
      "{'name': 'station', 'type': TEXT(), 'nullable': True, 'default': None, 'primary_key': 0}\n",
      "{'name': 'date', 'type': TEXT(), 'nullable': True, 'default': None, 'primary_key': 0}\n",
      "{'name': 'prcp', 'type': FLOAT(), 'nullable': True, 'default': None, 'primary_key': 0}\n",
      "{'name': 'tobs', 'type': FLOAT(), 'nullable': True, 'default': None, 'primary_key': 0}\n",
      "station\n",
      "{'name': 'id', 'type': INTEGER(), 'nullable': False, 'default': None, 'primary_key': 1}\n",
      "{'name': 'station', 'type': TEXT(), 'nullable': True, 'default': None, 'primary_key': 0}\n",
      "{'name': 'name', 'type': TEXT(), 'nullable': True, 'default': None, 'primary_key': 0}\n",
      "{'name': 'latitude', 'type': FLOAT(), 'nullable': True, 'default': None, 'primary_key': 0}\n",
      "{'name': 'longitude', 'type': FLOAT(), 'nullable': True, 'default': None, 'primary_key': 0}\n",
      "{'name': 'elevation', 'type': FLOAT(), 'nullable': True, 'default': None, 'primary_key': 0}\n"
     ]
    }
   ],
   "source": [
    "# We know the names of the tables... but we need more information about them.\n",
    "# Get the names of the columns for the two tables.\n",
    "for table in Base.classes.keys():\n",
    "    print(table)\n",
    "    cols = inspector.get_columns(table)\n",
    "    \n",
    "    for col in cols:\n",
    "        print(col)"
   ]
  },
  {
   "cell_type": "markdown",
   "metadata": {},
   "source": [
    "# Exploratory Precipitation Analysis"
   ]
  },
  {
   "cell_type": "code",
   "execution_count": 9,
   "metadata": {},
   "outputs": [
    {
     "data": {
      "text/plain": [
       "[('2017-08-23',)]"
      ]
     },
     "execution_count": 9,
     "metadata": {},
     "output_type": "execute_result"
    }
   ],
   "source": [
    "# Find the most recent date in the data set.\n",
    "session.query(func.max(Measurement.date)).all()"
   ]
  },
  {
   "cell_type": "code",
   "execution_count": 10,
   "metadata": {},
   "outputs": [
    {
     "name": "stdout",
     "output_type": "stream",
     "text": [
      "<class 'pandas.core.frame.DataFrame'>\n",
      "RangeIndex: 2223 entries, 0 to 2222\n",
      "Data columns (total 2 columns):\n",
      " #   Column         Non-Null Count  Dtype  \n",
      "---  ------         --------------  -----  \n",
      " 0   date           2223 non-null   object \n",
      " 1   precipitation  2015 non-null   float64\n",
      "dtypes: float64(1), object(1)\n",
      "memory usage: 34.9+ KB\n",
      "None\n",
      "         date  precipitation\n",
      "0  2016-08-24           0.08\n",
      "1  2016-08-25           0.08\n",
      "2  2016-08-26           0.00\n",
      "3  2016-08-27           0.00\n",
      "4  2016-08-28           0.01\n",
      "--------------------------------------------------\n",
      "<class 'pandas.core.frame.DataFrame'>\n",
      "Index: 2015 entries, 0 to 2222\n",
      "Data columns (total 2 columns):\n",
      " #   Column         Non-Null Count  Dtype         \n",
      "---  ------         --------------  -----         \n",
      " 0   date           2015 non-null   datetime64[ns]\n",
      " 1   precipitation  2015 non-null   float64       \n",
      "dtypes: datetime64[ns](1), float64(1)\n",
      "memory usage: 47.2 KB\n",
      "None\n",
      "        date  precipitation\n",
      "0 2016-08-24           0.08\n",
      "1 2016-08-25           0.08\n",
      "2 2016-08-26           0.00\n",
      "3 2016-08-27           0.00\n",
      "4 2016-08-28           0.01\n",
      "--------------------------------------------------\n",
      "        date  precipitation\n",
      "0 2017-08-23           0.45\n",
      "1 2017-08-23           0.08\n",
      "2 2017-08-23           0.00\n",
      "3 2017-08-23           0.00\n",
      "4 2017-08-22           0.00\n"
     ]
    }
   ],
   "source": [
    "# Design a query to retrieve the last 12 months of precipitation data and plot the results.\n",
    "# Range: 2016-08-23 to 2017-08-23.\n",
    "# Create DateTime to use for the filter.\n",
    "start_date = dt.datetime(2016, 8, 23)\n",
    "end_date = dt.datetime(2017, 8, 23)\n",
    "\n",
    "# Make a query to get the date and prcp values within the range.\n",
    "sel = [Measurement.date, Measurement.prcp]\n",
    "results = session.query(*sel)\\\n",
    "        .filter(Measurement.date >= start_date)\\\n",
    "        .filter(Measurement.date <= end_date)\\\n",
    "        .all()\n",
    "\n",
    "# Save the query results as a Pandas DataFrame. Explicitly set the column names\n",
    "prcp_df = pd.DataFrame(results, columns = ['date', 'precipitation'])\n",
    "print(prcp_df.info())\n",
    "print(prcp_df.head())\n",
    "print('--------------------------------------------------')\n",
    "\n",
    "# Clean up the DataFrame... drop the null values and convert the date column to datetime.\n",
    "prcp_df = prcp_df.dropna()\n",
    "prcp_df.date = pd.to_datetime(prcp_df.date)\n",
    "print(prcp_df.info())\n",
    "print(prcp_df.head())\n",
    "print('--------------------------------------------------')\n",
    "\n",
    "# Sort the dataframe by date\n",
    "prcp_df = prcp_df.sort_values(by = 'date', ascending = False).reset_index(drop = True)\n",
    "print(prcp_df.head())"
   ]
  },
  {
   "cell_type": "code",
   "execution_count": 11,
   "metadata": {},
   "outputs": [
    {
     "data": {
      "image/png": "[encoded data removed]",
      "text/plain": [
       "<Figure size 1000x600 with 1 Axes>"
      ]
     },
     "metadata": {},
     "output_type": "display_data"
    }
   ],
   "source": [
    "# Plot the data using Pandas plot.\n",
    "# Or... use matplotlib and make it look better?\n",
    "# Canvas.\n",
    "plt.figure(figsize = (10, 6))\n",
    "\n",
    "# Skeleton.\n",
    "plt.bar(\n",
    "    prcp_df.date,\n",
    "    prcp_df.precipitation,\n",
    "    color = 'dodgerblue'\n",
    ")\n",
    "\n",
    "# Formatting.\n",
    "plt.title(f'Precipitation in Hawaii from {start_date:%Y-%m-%d} to {end_date:%Y-%m-%d}')\n",
    "\n",
    "plt.xlabel('')\n",
    "plt.xticks(np.arange(start_date, (end_date + dt.timedelta(days = 31)), dtype='datetime64[M]'), rotation = 90)\n",
    "plt.xlim(start_date, (end_date + dt.timedelta(days = 1)))\n",
    "\n",
    "plt.ylabel('Inches')\n",
    "plt.yticks(np.arange(0, 10, 1))\n",
    "plt.ylim(0, 8)\n",
    "\n",
    "# Show.\n",
    "plt.show()"
   ]
  },
  {
   "cell_type": "code",
   "execution_count": 12,
   "metadata": {},
   "outputs": [
    {
     "data": {
      "text/html": [
       "<div>\n",
       "<style scoped>\n",
       "    .dataframe tbody tr th:only-of-type {\n",
       "        vertical-align: middle;\n",
       "    }\n",
       "\n",
       "    .dataframe tbody tr th {\n",
       "        vertical-align: top;\n",
       "    }\n",
       "\n",
       "    .dataframe thead th {\n",
       "        text-align: right;\n",
       "    }\n",
       "</style>\n",
       "<table border=\"1\" class=\"dataframe\">\n",
       "  <thead>\n",
       "    <tr style=\"text-align: right;\">\n",
       "      <th></th>\n",
       "      <th>date</th>\n",
       "      <th>precipitation</th>\n",
       "    </tr>\n",
       "  </thead>\n",
       "  <tbody>\n",
       "    <tr>\n",
       "      <th>count</th>\n",
       "      <td>2015</td>\n",
       "      <td>2015.000000</td>\n",
       "    </tr>\n",
       "    <tr>\n",
       "      <th>mean</th>\n",
       "      <td>2017-02-16 21:35:38.560794112</td>\n",
       "      <td>0.176462</td>\n",
       "    </tr>\n",
       "    <tr>\n",
       "      <th>min</th>\n",
       "      <td>2016-08-24 00:00:00</td>\n",
       "      <td>0.000000</td>\n",
       "    </tr>\n",
       "    <tr>\n",
       "      <th>25%</th>\n",
       "      <td>2016-11-18 00:00:00</td>\n",
       "      <td>0.000000</td>\n",
       "    </tr>\n",
       "    <tr>\n",
       "      <th>50%</th>\n",
       "      <td>2017-02-15 00:00:00</td>\n",
       "      <td>0.020000</td>\n",
       "    </tr>\n",
       "    <tr>\n",
       "      <th>75%</th>\n",
       "      <td>2017-05-17 00:00:00</td>\n",
       "      <td>0.130000</td>\n",
       "    </tr>\n",
       "    <tr>\n",
       "      <th>max</th>\n",
       "      <td>2017-08-23 00:00:00</td>\n",
       "      <td>6.700000</td>\n",
       "    </tr>\n",
       "    <tr>\n",
       "      <th>std</th>\n",
       "      <td>NaN</td>\n",
       "      <td>0.460288</td>\n",
       "    </tr>\n",
       "  </tbody>\n",
       "</table>\n",
       "</div>"
      ],
      "text/plain": [
       "                                date  precipitation\n",
       "count                           2015    2015.000000\n",
       "mean   2017-02-16 21:35:38.560794112       0.176462\n",
       "min              2016-08-24 00:00:00       0.000000\n",
       "25%              2016-11-18 00:00:00       0.000000\n",
       "50%              2017-02-15 00:00:00       0.020000\n",
       "75%              2017-05-17 00:00:00       0.130000\n",
       "max              2017-08-23 00:00:00       6.700000\n",
       "std                              NaN       0.460288"
      ]
     },
     "metadata": {},
     "output_type": "display_data"
    }
   ],
   "source": [
    "# Use Pandas to calculate the summary statistics for the precipitation data.\n",
    "display(prcp_df.describe())"
   ]
  },
  {
   "cell_type": "markdown",
   "metadata": {},
   "source": [
    "# Exploratory Station Analysis"
   ]
  },
  {
   "cell_type": "code",
   "execution_count": 13,
   "metadata": {},
   "outputs": [
    {
     "name": "stdout",
     "output_type": "stream",
     "text": [
      "measurement\n",
      "{'name': 'id', 'type': INTEGER(), 'nullable': False, 'default': None, 'primary_key': 1}\n",
      "{'name': 'station', 'type': TEXT(), 'nullable': True, 'default': None, 'primary_key': 0}\n",
      "{'name': 'date', 'type': TEXT(), 'nullable': True, 'default': None, 'primary_key': 0}\n",
      "{'name': 'prcp', 'type': FLOAT(), 'nullable': True, 'default': None, 'primary_key': 0}\n",
      "{'name': 'tobs', 'type': FLOAT(), 'nullable': True, 'default': None, 'primary_key': 0}\n",
      "station\n",
      "{'name': 'id', 'type': INTEGER(), 'nullable': False, 'default': None, 'primary_key': 1}\n",
      "{'name': 'station', 'type': TEXT(), 'nullable': True, 'default': None, 'primary_key': 0}\n",
      "{'name': 'name', 'type': TEXT(), 'nullable': True, 'default': None, 'primary_key': 0}\n",
      "{'name': 'latitude', 'type': FLOAT(), 'nullable': True, 'default': None, 'primary_key': 0}\n",
      "{'name': 'longitude', 'type': FLOAT(), 'nullable': True, 'default': None, 'primary_key': 0}\n",
      "{'name': 'elevation', 'type': FLOAT(), 'nullable': True, 'default': None, 'primary_key': 0}\n"
     ]
    }
   ],
   "source": [
    "for table in Base.classes.keys():\n",
    "    print(table)\n",
    "    cols = inspector.get_columns(table)\n",
    "    \n",
    "    for col in cols:\n",
    "        print(col)"
   ]
  },
  {
   "cell_type": "code",
   "execution_count": 14,
   "metadata": {},
   "outputs": [
    {
     "data": {
      "text/plain": [
       "9"
      ]
     },
     "execution_count": 14,
     "metadata": {},
     "output_type": "execute_result"
    }
   ],
   "source": [
    "# Calculate the total number of stations in the dataset.\n",
    "session.query(Station).distinct().count()"
   ]
  },
  {
   "cell_type": "code",
   "execution_count": 15,
   "metadata": {},
   "outputs": [
    {
     "name": "stdout",
     "output_type": "stream",
     "text": [
      "USC00519281 : WAIHEE 837.5, HI US has 2772 observations.\n",
      "USC00519397 : WAIKIKI 717.2, HI US has 2724 observations.\n",
      "USC00513117 : KANEOHE 838.1, HI US has 2709 observations.\n",
      "USC00519523 : WAIMANALO EXPERIMENTAL FARM, HI US has 2669 observations.\n",
      "USC00516128 : MANOA LYON ARBO 785.2, HI US has 2612 observations.\n",
      "USC00514830 : KUALOA RANCH HEADQUARTERS 886.9, HI US has 2202 observations.\n",
      "USC00511918 : HONOLULU OBSERVATORY 702.2, HI US has 1979 observations.\n",
      "USC00517948 : PEARL CITY, HI US has 1372 observations.\n",
      "USC00518838 : UPPER WAHIAWA 874.3, HI US has 511 observations.\n"
     ]
    }
   ],
   "source": [
    "# Figure out the most active stations (i.e. the stations with most rows in the database).\n",
    "# List the stations and their counts in descending order.\n",
    "results = session.query(\n",
    "    Measurement.station, \n",
    "    func.count(Measurement.station),\n",
    "    Station.name\n",
    ").group_by(Measurement.station\n",
    ").filter(Station.station == Measurement.station\n",
    ").order_by(func.count(Measurement.station).desc()\n",
    ").all()\n",
    "\n",
    "for result in results:\n",
    "    print(f\"{result[0]} : {result[2]} has {result[1]} observations.\")\n",
    "\n",
    "# Save the active station for use later.\n",
    "a_station = results[0]"
   ]
  },
  {
   "cell_type": "code",
   "execution_count": 16,
   "metadata": {},
   "outputs": [
    {
     "name": "stdout",
     "output_type": "stream",
     "text": [
      "Temperature Statistics for USC00519281 : WAIHEE 837.5, HI US.\n",
      "Lowest temperature observed : 54.0.\n",
      "Highest temperature observed: 85.0.\n",
      "Average observed temperature: 71.66378066378067.\n"
     ]
    }
   ],
   "source": [
    "# Using the most active station id from the previous query, calculate the lowest, highest, and average temperature.\n",
    "results = session.query(\n",
    "    Measurement.station,\n",
    "    func.min(Measurement.tobs),\n",
    "    func.max(Measurement.tobs),\n",
    "    func.avg(Measurement.tobs)\n",
    ").filter(Measurement.station == a_station[0]\n",
    ").all()\n",
    "\n",
    "for result in results:\n",
    "    print(f\"Temperature Statistics for {a_station[0]} : {a_station[2]}.\")\n",
    "    print(f\"Lowest temperature observed : {result[1]}.\")\n",
    "    print(f\"Highest temperature observed: {result[2]}.\")\n",
    "    print(f\"Average observed temperature: {result[3]}.\")"
   ]
  },
  {
   "cell_type": "code",
   "execution_count": 17,
   "metadata": {},
   "outputs": [
    {
     "data": {
      "image/png": "[encoded data removed]",
      "text/plain": [
       "<Figure size 1000x600 with 1 Axes>"
      ]
     },
     "metadata": {},
     "output_type": "display_data"
    }
   ],
   "source": [
    "# Query the last 12 months of temperature observations for the most active station and plot the results as a histogram.\n",
    "results = session.query(\n",
    "    Measurement.tobs\n",
    ").filter(Measurement.date >= start_date\n",
    ").filter(Measurement.date <= end_date\n",
    ").filter(Measurement.station == a_station[0]\n",
    ")\n",
    "\n",
    "temp_df = pd.DataFrame(results, columns = [\"temp\"]) \n",
    "\n",
    "# Plot the data using Pandas plot.\n",
    "# Or... use matplotlib and make it look better?\n",
    "# Canvas.\n",
    "plt.figure(figsize = (10, 6))\n",
    "\n",
    "# Skeleton.\n",
    "n, bins, patches = plt.hist(\n",
    "    temp_df.temp,\n",
    "    bins = 12,\n",
    "    color = 'firebrick'\n",
    ")\n",
    "\n",
    "# Formatting.\n",
    "plt.title(f'Temperatures Observed at {a_station[2]} in Hawaii from {start_date:%Y-%m-%d} to {end_date:%Y-%m-%d}')\n",
    "\n",
    "plt.xlabel('Temperature')\n",
    "# plt.xticks()\n",
    "# plt.xlim()\n",
    "\n",
    "plt.ylabel('Frequency')\n",
    "# plt.yticks()\n",
    "# plt.ylim()\n",
    "\n",
    "plt.grid(color = 'lightgray', alpha = .25)\n",
    "\n",
    "# Fun colormapping business... \n",
    "# Resource used: https://stackoverflow.com/questions/23061657/plot-histogram-with-colors-taken-from-colormap\n",
    "cm = plt.colormaps['plasma']\n",
    "bin_centers = 0.5 * (bins[:-1] + bins[1:])\n",
    "\n",
    "# Scale values to [0, 1].\n",
    "col = bin_centers - min(bin_centers)\n",
    "col /= max(col)\n",
    "\n",
    "for c, p in zip(col, patches):\n",
    "    plt.setp(p, 'facecolor', cm(c))\n",
    "\n",
    "# Show.\n",
    "plt.show()"
   ]
  },
  {
   "cell_type": "markdown",
   "metadata": {},
   "source": [
    "# Close Session"
   ]
  },
  {
   "cell_type": "code",
   "execution_count": 18,
   "metadata": {},
   "outputs": [],
   "source": [
    "# Close Session.\n",
    "session.close()"
   ]
  }
 ],
 "metadata": {
  "anaconda-cloud": {},
  "kernel_info": {
   "name": "python3"
  },
  "kernelspec": {
   "display_name": "Python 3 (ipykernel)",
   "language": "python",
   "name": "python3"
  },
  "language_info": {
   "codemirror_mode": {
    "name": "ipython",
    "version": 3
   },
   "file_extension": ".py",
   "mimetype": "text/x-python",
   "name": "python",
   "nbconvert_exporter": "python",
   "pygments_lexer": "ipython3",
   "version": "3.10.14"
  },
  "nteract": {
   "version": "0.12.3"
  },
  "varInspector": {
   "cols": {
    "lenName": 16,
    "lenType": 16,
    "lenVar": 40
   },
   "kernels_config": {
    "python": {
     "delete_cmd_postfix": "",
     "delete_cmd_prefix": "del ",
     "library": "var_list.py",
     "varRefreshCmd": "print(var_dic_list())"
    },
    "r": {
     "delete_cmd_postfix": ") ",
     "delete_cmd_prefix": "rm(",
     "library": "var_list.r",
     "varRefreshCmd": "cat(var_dic_list()) "
    }
   },
   "types_to_exclude": [
    "module",
    "function",
    "builtin_function_or_method",
    "instance",
    "_Feature"
   ],
   "window_display": false
  }
 },
 "nbformat": 4,
 "nbformat_minor": 4
}
